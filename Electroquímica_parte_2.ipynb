{
  "nbformat": 4,
  "nbformat_minor": 0,
  "metadata": {
    "colab": {
      "provenance": [],
      "authorship_tag": "ABX9TyO6bojMD84wQutp+LIolW4P",
      "include_colab_link": true
    },
    "kernelspec": {
      "name": "python3",
      "display_name": "Python 3"
    },
    "language_info": {
      "name": "python"
    }
  },
  "cells": [
    {
      "cell_type": "markdown",
      "metadata": {
        "id": "view-in-github",
        "colab_type": "text"
      },
      "source": [
        "<a href=\"https://colab.research.google.com/github/Sonny2319/PracticasDeQuimica/blob/main/Electroqu%C3%ADmica_parte_2.ipynb\" target=\"_parent\"><img src=\"https://colab.research.google.com/assets/colab-badge.svg\" alt=\"Open In Colab\"/></a>"
      ]
    },
    {
      "cell_type": "code",
      "source": [
        "def determinar_anodo_catodo(reaccion):\n",
        "    # Separar la reacción en ánodo y cátodo\n",
        "    partes = reaccion.split(' -> ')\n",
        "\n",
        "    if len(partes) == 2:\n",
        "        anodo, catodo = partes\n",
        "        print(f\"Ánodo: {anodo.strip()}\")\n",
        "        print(f\"Cátodo: {catodo.strip()}\")\n",
        "    else:\n",
        "        print(\"Formato de reacción incorrecto. Se espera 'Ánodo -> Cátodo'.\")\n",
        "\n",
        "# Ejemplo de uso\n",
        "reaccion_electrolisis = \"M -> M^n+ + ne- -> X2 + 2e- -> 2X-\"\n",
        "determinar_anodo_catodo(reaccion_electrolisis)\n"
      ],
      "metadata": {
        "colab": {
          "base_uri": "https://localhost:8080/"
        },
        "id": "YCZPOCjycTfL",
        "outputId": "9d4c62b2-bcdd-4ed0-92e7-114761b4111e"
      },
      "execution_count": 1,
      "outputs": [
        {
          "output_type": "stream",
          "name": "stdout",
          "text": [
            "Formato de reacción incorrecto. Se espera 'Ánodo -> Cátodo'.\n"
          ]
        }
      ]
    },
    {
      "cell_type": "markdown",
      "source": [
        "Otro método"
      ],
      "metadata": {
        "id": "K1v_SW-GNUrU"
      }
    },
    {
      "cell_type": "code",
      "source": [
        "def determinar_anodo_catodo(reaccion):\n",
        "    # Separar la reacción en ánodo y cátodo\n",
        "    flechas = ['->', '<-', '<->', '-->', '<--', '<-->']  # Diferentes notaciones de flechas\n",
        "    for flecha in flechas:\n",
        "        if flecha in reaccion:\n",
        "            anodo, catodo = reaccion.split(flecha)\n",
        "            print(f\"Ánodo: {anodo.strip()}\")\n",
        "            print(f\"Cátodo: {catodo.strip()}\")\n",
        "            return\n",
        "\n",
        "    # Si no se encuentra ninguna flecha válida\n",
        "    print(\"Formato de reacción incorrecto. No se encontró una flecha válida.\")\n",
        "\n",
        "# Ejemplo de uso\n",
        "reaccion_electrolisis = \"M -> M^n+ + ne-\"\n",
        "determinar_anodo_catodo(reaccion_electrolisis)"
      ],
      "metadata": {
        "colab": {
          "base_uri": "https://localhost:8080/"
        },
        "id": "_D0pC0Uuc_ip",
        "outputId": "5aef12df-baf2-4ab1-df25-8e050aef0907"
      },
      "execution_count": 2,
      "outputs": [
        {
          "output_type": "stream",
          "name": "stdout",
          "text": [
            "Ánodo: M\n",
            "Cátodo: M^n+ + ne-\n"
          ]
        }
      ]
    }
  ]
}