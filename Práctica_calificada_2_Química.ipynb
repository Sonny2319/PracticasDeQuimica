{
  "nbformat": 4,
  "nbformat_minor": 0,
  "metadata": {
    "colab": {
      "provenance": [],
      "authorship_tag": "ABX9TyOWJKmH6btL5lNIWLvZb565",
      "include_colab_link": true
    },
    "kernelspec": {
      "name": "python3",
      "display_name": "Python 3"
    },
    "language_info": {
      "name": "python"
    }
  },
  "cells": [
    {
      "cell_type": "markdown",
      "metadata": {
        "id": "view-in-github",
        "colab_type": "text"
      },
      "source": [
        "<a href=\"https://colab.research.google.com/github/Sonny2319/PracticasDeQuimica/blob/main/Pr%C3%A1ctica_calificada_2_Qu%C3%ADmica.ipynb\" target=\"_parent\"><img src=\"https://colab.research.google.com/assets/colab-badge.svg\" alt=\"Open In Colab\"/></a>"
      ]
    },
    {
      "cell_type": "markdown",
      "source": [
        "1. DataFrames y listas en python"
      ],
      "metadata": {
        "id": "CVj6sEoksMyR"
      }
    },
    {
      "cell_type": "markdown",
      "source": [
        "| Nombre           | Símbolo | Masa Atómica (u) | Número Atómico | Valencias                       |\n",
        "|------------------|---------|-------------------|-----------------|---------------------------------|\n",
        "| Hidrógeno        | H       | 1.008             | 1               | +1, -1                          |\n",
        "| Helio            | He      | 4.0026            | 2               | 0                               |\n",
        "| Litio            | Li      | 6.94              | 3               | +1                              |\n",
        "| Berilio          | Be      | 9.0122            | 4               | +2                              |\n",
        "| Boro             | B       | 10.81             | 5               | +3                              |\n",
        "| Carbono          | C       | 12.01             | 6               | -4, -3, -2, -1, +4              |\n",
        "| Nitrógeno        | N       | 14.01             | 7               | -3, -2, -1, +3, +5              |\n",
        "| Oxígeno          | O       | 16.00             | 8               | -2                              |\n",
        "| Flúor            | F       | 19.00             | 9               | -1                              |\n",
        "| Neón             | Ne      | 20.18             | 10              | 0                               |\n",
        "| Sodio            | Na      | 22.99             | 11              | +1                              |\n",
        "| Magnesio         | Mg      | 24.31             | 12              | +2                              |\n",
        "| Aluminio         | Al      | 26.98             | 13              | +3                              |\n",
        "| Silicio          | Si      | 28.09             | 14              | -4, +4                          |\n",
        "| Fósforo          | P       | 30.97             | 15              | -3, +3, +5                      |\n",
        "| Azufre           | S       | 32.07             | 16              | -2, +2, +6                      |\n",
        "| Cloro            | Cl      | 35.45             | 17              | -1                              |\n",
        "| Argón            | Ar      | 39.95             | 18              | 0                               |\n",
        "| Potasio          | K       | 39.10             | 19              | +1                              |\n",
        "| Calcio           | Ca      | 40.08             | 20              | +2                              |"
      ],
      "metadata": {
        "id": "ssNd9ws-vJ-R"
      }
    },
    {
      "cell_type": "markdown",
      "source": [
        "2. Configuración electrónica"
      ],
      "metadata": {
        "id": "IFrUZ-OutOJe"
      }
    },
    {
      "cell_type": "code",
      "source": [
        "# Lee el número atómico desde el usuario\n",
        "numero_atomico = int(input(\"Ingresa el número atómico: \"))\n",
        "\n",
        "# Obtiene el número de electrones de valencia (última cifra del número atómico)\n",
        "valencia = numero_atomico % 10\n",
        "\n",
        "# Imprime el resultado\n",
        "print(f\"El número de electrones de valencia para el elemento con número atómico {numero_atomico} es {valencia}.\")\n"
      ],
      "metadata": {
        "colab": {
          "base_uri": "https://localhost:8080/"
        },
        "id": "um6KRO71tjDl",
        "outputId": "dc2f8017-d371-4cc5-e28f-94466fd294c6"
      },
      "execution_count": 2,
      "outputs": [
        {
          "output_type": "stream",
          "name": "stdout",
          "text": [
            "Ingresa el número atómico: 5\n",
            "El número de electrones de valencia para el elemento con número atómico 5 es 5.\n"
          ]
        }
      ]
    },
    {
      "cell_type": "markdown",
      "source": [
        "3. Molecularidad & compuestos covalentes"
      ],
      "metadata": {
        "id": "U6gAn7NYv2Cv"
      }
    },
    {
      "cell_type": "code",
      "source": [
        "import re\n",
        "\n",
        "def obtener_subindices(formula):\n",
        "    # Usar una expresión regular para buscar subíndices en la fórmula\n",
        "    subindices = re.findall(r'(\\d+)', formula)\n",
        "\n",
        "    # Convertir los subíndices encontrados en una lista de enteros\n",
        "    subindices_enteros = [int(subindice) for subindice in subindices]\n",
        "\n",
        "    return subindices_enteros\n",
        "\n",
        "# Ejemplo de uso\n",
        "formula_quimica = \"H2O\"\n",
        "subindices = obtener_subindices(formula_quimica)\n",
        "\n",
        "# Imprimir los subíndices\n",
        "for i, subindice in enumerate(subindices, start=1):\n",
        "    print(f\"Subíndice {i}: {subindice}\")\n"
      ],
      "metadata": {
        "colab": {
          "base_uri": "https://localhost:8080/"
        },
        "id": "p4Tr8AV70lhn",
        "outputId": "2af29049-99f5-4101-dff5-4d6b395de284"
      },
      "execution_count": 25,
      "outputs": [
        {
          "output_type": "stream",
          "name": "stdout",
          "text": [
            "Subíndice 1: 2\n"
          ]
        }
      ]
    },
    {
      "cell_type": "markdown",
      "source": [
        "4. SMILES, RDKit y Open Babel"
      ],
      "metadata": {
        "id": "4i2cLXvbx11x"
      }
    },
    {
      "cell_type": "markdown",
      "source": [
        "from rdkit import Chem\n",
        "from rdkit.Chem import AllChem\n",
        "\n",
        "# Lista de nombres de 10 fármacos de ejemplo\n",
        "nombres_farmacos = [\"aspirina\", \"paracetamol\", \"ibuprofeno\", \"captopril\", \"amlodipino\", \"atorvastatina\", \"metformina\", \"ondansetron\", \"fluoxetina\", \"losartan\"]\n",
        "\n",
        "# Crear un diccionario para almacenar los SMILES y estructuras optimizadas\n",
        "smiles_farmacos = {}\n",
        "estructuras_optimizadas = {}\n",
        "\n",
        "# Recopilar los SMILES de los fármacos y optimizar sus estructuras\n",
        "for nombre in nombres_farmacos:\n",
        "    # Cargar la molécula desde el nombre\n",
        "    mol = Chem.MolFromSmiles(nombre)\n",
        "    \n",
        "    if mol:\n",
        "        # Generar una estructura 3D inicial\n",
        "        mol = Chem.AddHs(mol)\n",
        "        AllChem.EmbedMolecule(mol, AllChem.ETKDG())\n",
        "        \n",
        "        # Optimizar la estructura\n",
        "        AllChem.MMFFOptimizeMolecule(mol, AllChem.MMFFGetMoleculeProperties(mol), nonBondedThresh=100.0)\n",
        "        \n",
        "        # Obtener el SMILES y almacenarlo en el diccionario\n",
        "        smiles = Chem.MolToSmiles(mol)\n",
        "        smiles_farmacos[nombre] = smiles\n",
        "        estructuras_optimizadas[nombre] = mol\n",
        "    else:\n",
        "        smiles_farmacos[nombre] = \"No se encontró\"\n",
        "\n",
        "# Imprimir los SMILES\n",
        "for nombre, smiles in smiles_farmacos.items():\n",
        "    print(f\"{nombre}: {smiles}\")\n"
      ],
      "metadata": {
        "id": "x0uwfPrIM80f"
      }
    },
    {
      "cell_type": "markdown",
      "source": [
        "5. Método científico\n",
        "\n",
        "El texto proporcionado describe un enfoque didáctico innovador que es aplicado en la enseñanza de conceptos relacionados con la química y la estructura atómica en el aula de clase. Aunque no se menciona explícitamente el método científico, este enfoque comparte similitudes con los pasos del método científico en varios aspectos.\n",
        "\n",
        "En primer lugar, el proceso comienza con la observación y la descripción de fenómenos y conceptos relacionados con la química y la estructura de los átomos. Los educadores y estudiantes observan y describen cómo funcionan los electrones en los átomos, cómo se llenan los orbitales y cómo estas configuraciones afectan las propiedades de los elementos. Esto se asemeja al primer paso del método científico, que implica observar fenómenos naturales y plantear preguntas sobre ellos.\n",
        "\n",
        "En segundo lugar, se diseña un modelo didáctico que utiliza cajas de huevo y bolas de ping-pong para representar de manera visual y tangible los orbitales y electrones en los átomos. Este modelo es una herramienta poderosa para ayudar a los estudiantes a comprender conceptos abstractos y abstractos, lo que es fundamental en la formulación de hipótesis y teorías en el método científico.\n",
        "\n",
        "En tercer lugar, es posible que los estudiantes realicen experimentos o actividades prácticas utilizando este modelo. Pueden llenar los orbitales con \"electrones\" (bolas de ping-pong) siguiendo las reglas de Hund y observar cómo se comportan. Esta experimentación y prueba se relaciona con otro aspecto importante del método científico, que implica llevar a cabo experimentos para recopilar datos y evidencia.\n",
        "\n",
        "Por último, el método también implica para la conceptualización didáctica grupal, lo que significa que los estudiantes trabajan juntos para desarrollar una comprensión compartida de los conceptos. Esto se relaciona con la etapa final del método científico, que implica la comunicación de resultados y teorías a la comunidad científica y la sociedad en general.\n"
      ],
      "metadata": {
        "id": "9oY8NkULyu-y"
      }
    }
  ]
}