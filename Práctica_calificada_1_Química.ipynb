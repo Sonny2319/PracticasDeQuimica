{
  "nbformat": 4,
  "nbformat_minor": 0,
  "metadata": {
    "colab": {
      "provenance": [],
      "authorship_tag": "ABX9TyO7BnsTVmq5wJSAepaXxBUJ",
      "include_colab_link": true
    },
    "kernelspec": {
      "name": "python3",
      "display_name": "Python 3"
    },
    "language_info": {
      "name": "python"
    }
  },
  "cells": [
    {
      "cell_type": "markdown",
      "metadata": {
        "id": "view-in-github",
        "colab_type": "text"
      },
      "source": [
        "<a href=\"https://colab.research.google.com/github/Sonny2319/PracticasDeQuimica/blob/main/Pr%C3%A1ctica_calificada_1_Qu%C3%ADmica.ipynb\" target=\"_parent\"><img src=\"https://colab.research.google.com/assets/colab-badge.svg\" alt=\"Open In Colab\"/></a>"
      ]
    },
    {
      "cell_type": "markdown",
      "source": [
        "1.1 Imprimir la versión de python."
      ],
      "metadata": {
        "id": "jsUS-d9cTwVv"
      }
    },
    {
      "cell_type": "code",
      "execution_count": null,
      "metadata": {
        "colab": {
          "base_uri": "https://localhost:8080/"
        },
        "id": "S96J0zpiTsHD",
        "outputId": "282c56d1-720a-4a9d-c612-c075604ce91c"
      },
      "outputs": [
        {
          "output_type": "stream",
          "name": "stdout",
          "text": [
            "Versión de Python:\n",
            "3.10.12 (main, Jun 11 2023, 05:26:28) [GCC 11.4.0]\n",
            "\n",
            "Palabras reservadas de Python:\n",
            "['False', 'None', 'True', 'and', 'as', 'assert', 'async', 'await', 'break', 'class', 'continue', 'def', 'del', 'elif', 'else', 'except', 'finally', 'for', 'from', 'global', 'if', 'import', 'in', 'is', 'lambda', 'nonlocal', 'not', 'or', 'pass', 'raise', 'return', 'try', 'while', 'with', 'yield']\n"
          ]
        }
      ],
      "source": [
        "import sys\n",
        "\n",
        "# Imprimir la versión de Python\n",
        "print( \"Versión de Python:\")\n",
        "print(sys.version)\n",
        "\n",
        "# Obtener e imprimir las palabras reservadas de Python para esa versión\n",
        "print(\"\\nPalabras reservadas de Python:\")\n",
        "import keyword\n",
        "print(keyword.kwlist)"
      ]
    },
    {
      "cell_type": "markdown",
      "source": [
        "1.2 Crea una matriz de 3x3 e imprime la suma de los elementos en sudiagonal (traza)."
      ],
      "metadata": {
        "id": "XwWZwJeBVWmj"
      }
    },
    {
      "cell_type": "code",
      "source": [
        "# Crear una matriz de 3x3\n",
        "matriz = [\n",
        "    [1, 2, 3],\n",
        "    [4, 5, 6],\n",
        "    [7, 8, 9]\n",
        "]\n",
        "\n",
        "# Inicializar la suma de la diagonal en cero\n",
        "suma_diagonal = 0\n",
        "\n",
        "# Calcular la suma de la diagonal\n",
        "for i in range(3):\n",
        "    suma_diagonal += matriz[i][i]\n",
        "\n",
        "# Imprimir la matriz\n",
        "print(\"Matriz 3x3:\")\n",
        "for fila in matriz:\n",
        "    print(fila)\n",
        "\n",
        "# Imprimir la suma de la diagonal (traza)\n",
        "print(\"Suma de la diagonal (traza):\")"
      ],
      "metadata": {
        "colab": {
          "base_uri": "https://localhost:8080/"
        },
        "id": "Vel-QWq2XObj",
        "outputId": "cfa0d306-4475-4d42-e671-48fac5a76204"
      },
      "execution_count": null,
      "outputs": [
        {
          "output_type": "stream",
          "name": "stdout",
          "text": [
            "Matriz 3x3:\n",
            "[1, 2, 3]\n",
            "[4, 5, 6]\n",
            "[7, 8, 9]\n",
            "Suma de la diagonal (traza):\n"
          ]
        }
      ]
    },
    {
      "cell_type": "markdown",
      "source": [
        "1.3 Guarda como variable la masa atómica de los elementos C, H y O, e\n",
        "imprime la masa molecular del etanol."
      ],
      "metadata": {
        "id": "bI8PPYNkV0Om"
      }
    },
    {
      "cell_type": "code",
      "source": [
        "# Definir las masas atómicas de los elementos\n",
        "masa_atomica_C = 12.01  # Masa atómica del carbono (C)\n",
        "masa_atomica_H = 1.01   # Masa atómica del hidrógeno (H)\n",
        "masa_atomica_O = 16.00  # Masa atómica del oxígeno (O)\n",
        "\n",
        "# Fórmula química del etanol (C2H5OH)\n",
        "num_atomos_C = 2\n",
        "num_atomos_H = 6\n",
        "num_atomos_O = 1\n",
        "\n",
        "# Calcula la masa molecular del etanol\n",
        "masa_molecular_etanol = (num_atomos_C * masa_atomica_C +\n",
        "                          num_atomos_H * masa_atomica_H +\n",
        "                          num_atomos_O * masa_atomica_O)\n",
        "\n",
        "# Imprime la masa molecular del etanol\n",
        "print(f\"La masa molecular del etanol (C2H5OH) es: {masa_molecular_etanol} g/mol\")"
      ],
      "metadata": {
        "colab": {
          "base_uri": "https://localhost:8080/"
        },
        "id": "0H9E_GXtmpjh",
        "outputId": "0ade6eb0-67bb-428f-9c9a-0a8a5eda353c"
      },
      "execution_count": null,
      "outputs": [
        {
          "output_type": "stream",
          "name": "stdout",
          "text": [
            "La masa molecular del etanol (C2H5OH) es: 46.08 g/mol\n"
          ]
        }
      ]
    },
    {
      "cell_type": "markdown",
      "source": [
        "1.4 Busca la temperatura de fusión en Celsius de 5 metales y guárdalos en\n",
        "una lista. Imprime las temperaturas en Kelvin."
      ],
      "metadata": {
        "id": "bpnlpyoSqVpp"
      }
    },
    {
      "cell_type": "code",
      "source": [
        "# Definir una lista de metales y sus temperaturas de fusión en grados Celsius\n",
        "metales = [\"Aluminio\", \"Hierro\", \"Cobre\", \"Plomo\", \"Zinc\"]\n",
        "temperaturas_Celsius = [660.3, 1538, 1084.62, 327.46, 419.53]\n",
        "\n",
        "# Crear una lista para almacenar las temperaturas en Kelvin\n",
        "temperaturas_Kelvin = []\n",
        "\n",
        "# Convertir las temperaturas de Celsius a Kelvin y guardarlas en la nueva lista\n",
        "for temp_Celsius in temperaturas_Celsius:\n",
        "    temp_Kelvin = temp_Celsius + 273.15  # Conversión de Celsius a Kelvin\n",
        "    temperaturas_Kelvin.append(temp_Kelvin)\n",
        "\n",
        "# Imprimir las temperaturas en Kelvin junto con el nombre de los metales\n",
        "for i in range(len(metales)):\n",
        "    print(f\"{metales[i]} - Temperatura de fusión en Kelvin: {temperaturas_Kelvin[i]:.2f} K\")"
      ],
      "metadata": {
        "colab": {
          "base_uri": "https://localhost:8080/"
        },
        "id": "yajlY3gBqd32",
        "outputId": "b0db60a4-ce00-4867-9b5b-2b245f771fb3"
      },
      "execution_count": null,
      "outputs": [
        {
          "output_type": "stream",
          "name": "stdout",
          "text": [
            "Aluminio - Temperatura de fusión en Kelvin: 933.45 K\n",
            "Hierro - Temperatura de fusión en Kelvin: 1811.15 K\n",
            "Cobre - Temperatura de fusión en Kelvin: 1357.77 K\n",
            "Plomo - Temperatura de fusión en Kelvin: 600.61 K\n",
            "Zinc - Temperatura de fusión en Kelvin: 692.68 K\n"
          ]
        }
      ]
    },
    {
      "cell_type": "markdown",
      "source": [
        "Pregunta 2: Escribe un programa que lea repetidamente elementos químicos en español\n",
        "hasta que el usuario introduzca “fin”. Una vez se haya introducido “fin”,\n",
        "muestra por pantalla (o sea imprime) el total de elementos ingresados. Si\n",
        "el usuario introduce cualquier otra cosa que no sea un elemento químico,\n",
        "detecta su fallo usando try y except, muestra un mensaje de error y pasa\n",
        "al siguiente elemento."
      ],
      "metadata": {
        "id": "-oiMlZRRq8uG"
      }
    },
    {
      "cell_type": "code",
      "source": [
        "# Crear una lista para almacenar los elementos químicos ingresados\n",
        "elementos_quimicos = []\n",
        "\n",
        "# Bucle para leer repetidamente elementos químicos\n",
        "while True:\n",
        "    entrada = input(\"Ingresa un elemento químico (o 'fin' para terminar): \").strip().capitalize()\n",
        "\n",
        "    # Verificar si el usuario desea salir del programa\n",
        "    if entrada == \"Fin\":\n",
        "        break\n",
        "\n",
        "    # Validar si la entrada es un elemento químico válido\n",
        "    elementos_validos = [\"Hidrogeno\", \"Helio\", \"Litio\", \"Berilio\", \"Boro\"]\n",
        "    if entrada in elementos_validos:\n",
        "        elementos_quimicos.append(entrada)\n",
        "    else:\n",
        "        print(f\"Error: '{entrada}' no es un elemento químico válido.\")\n",
        "        continue  # Pasar al siguiente elemento en caso de error\n",
        "\n",
        "# Mostrar el total de elementos químicos ingresados\n",
        "print(f\"\\nTotal de elementos químicos ingresados: {len(elementos_quimicos)}\")\n"
      ],
      "metadata": {
        "colab": {
          "base_uri": "https://localhost:8080/"
        },
        "id": "ptacmKuFrP4E",
        "outputId": "f10d7807-539b-4846-f218-bb4966f080e2"
      },
      "execution_count": 10,
      "outputs": [
        {
          "output_type": "stream",
          "name": "stdout",
          "text": [
            "Ingresa un elemento químico (o 'fin' para terminar): Hidrogeno\n",
            "Ingresa un elemento químico (o 'fin' para terminar): fin\n",
            "\n",
            "Total de elementos químicos ingresados: 1\n"
          ]
        }
      ]
    },
    {
      "cell_type": "markdown",
      "source": [
        "3. Demuestra cómo se cumple la conservación de la masa en la siguiente\n",
        "reacción química"
      ],
      "metadata": {
        "id": "EYPHTiw-wtbc"
      }
    },
    {
      "cell_type": "code",
      "source": [
        "# Definir las masas atómicas de C, H y O (en unidades de masa atómica unificada, u)\n",
        "masa_atomica_C = 12.01\n",
        "masa_atomica_H = 1.01\n",
        "masa_atomica_O = 16.00\n",
        "\n",
        "# Definir las cantidades de átomos de C, H y O en los reactivos y productos\n",
        "cantidad_C_reactivo = 6\n",
        "cantidad_H_reactivo = 12\n",
        "cantidad_O_reactivo = 6\n",
        "\n",
        "cantidad_C_producto = 6\n",
        "cantidad_H_producto = 12\n",
        "cantidad_O_producto = 6\n",
        "\n",
        "# Calcular la masa total de los reactivos\n",
        "masa_total_reactivos = (cantidad_C_reactivo * masa_atomica_C +\n",
        "                         cantidad_H_reactivo * masa_atomica_H +\n",
        "                         cantidad_O_reactivo * masa_atomica_O)\n",
        "\n",
        "# Calcular la masa total de los productos\n",
        "masa_total_productos = (cantidad_C_producto * masa_atomica_C +\n",
        "                        cantidad_H_producto * masa_atomica_H +\n",
        "                        cantidad_O_producto * masa_atomica_O)\n",
        "\n",
        "# Verificar si la conservación de la masa se cumple\n",
        "if abs(masa_total_reactivos - masa_total_productos) < 1e-6:\n",
        "    print(\"La conservación de la masa se cumple en la reacción química.\")\n",
        "else:\n",
        "    print(\"La conservación de la masa no se cumple en la reacción química.\")"
      ],
      "metadata": {
        "colab": {
          "base_uri": "https://localhost:8080/"
        },
        "id": "UomafzqfxgRO",
        "outputId": "97dbceca-3a1b-4c0b-f9f5-58939cb8ec52"
      },
      "execution_count": 12,
      "outputs": [
        {
          "output_type": "stream",
          "name": "stdout",
          "text": [
            "La conservación de la masa se cumple en la reacción química.\n"
          ]
        }
      ]
    },
    {
      "cell_type": "markdown",
      "source": [
        "4. Imprime las siguientes operaciones según la notación científica."
      ],
      "metadata": {
        "id": "zWDANrlm3NJC"
      }
    },
    {
      "cell_type": "code",
      "source": [
        "numero = 1600.12\n",
        "notacion_cientifica = f\"{numero:.2e}\"\n",
        "print(notacion_cientifica)"
      ],
      "metadata": {
        "colab": {
          "base_uri": "https://localhost:8080/"
        },
        "id": "VFm282GQ7evM",
        "outputId": "a5084474-de26-4262-cab0-8714b6718ec3"
      },
      "execution_count": 13,
      "outputs": [
        {
          "output_type": "stream",
          "name": "stdout",
          "text": [
            "1.60e+03\n"
          ]
        }
      ]
    },
    {
      "cell_type": "markdown",
      "source": [
        "5. Leer el artículo adjunto y explicar cómo es aplicado el método\n",
        "científico. Emplea como máximo 300 palabras.\n",
        "\n",
        "El LK-99 es un superconductor compuesto de apatita de plomo dopada con cobre. En teoría, es capaz de conducir la electricidad sin pérdidas a temperatura ambiente y presión atmosférica. Este descubrimiento, publicado en 2023, ha generado un gran entusiasmo en la comunidad científica, ya que podría revolucionar el campo de la superconductividad.\n",
        "\n",
        "El método científico es un proceso sistemático de investigación que se utiliza para investigar y comprender el mundo natural. Se basa en la observación, la experimentación, la formulación de hipótesis, la recopilación de datos y la evaluación de resultados.\n",
        "\n",
        "El LK-99 fue descubierto mediante un proceso que siguió los pasos del método científico. En primer lugar, los científicos observaron que la apatita de plomo dopada con cobre tenía una estructura similar a la de otros materiales superconductores. En segundo lugar, realizaron experimentos para medir la conductividad eléctrica del material a diferentes temperaturas y presiones. Los resultados de los experimentos mostraron que el LK-99 era superconductor a temperatura ambiente y presión atmosférica.\n",
        "\n",
        "Los científicos luego formularon una hipótesis para explicar los resultados de sus experimentos. La hipótesis es que la estructura molecular del LK-99 permite que los electrones fluyan sin resistencia a temperatura ambiente.\n",
        "\n",
        "Para probar esta hipótesis, los científicos realizaron más experimentos. Estos experimentos incluyeron el uso de técnicas de espectroscopía para estudiar la estructura molecular del LK-99. Los resultados de estos experimentos apoyaron la hipótesis de los científicos.\n",
        "\n",
        "Los resultados del descubrimiento del LK-99 aún deben ser confirmados por otros grupos de investigación. Sin embargo, si se confirman, el LK-99 podría tener un impacto revolucionario en el campo de la superconductividad.\n",
        "\n",
        "A continuación se describen los pasos del método científico aplicados al LK-99:\n",
        "\n",
        "1. **Observación:** Los científicos observaron que la apatita de plomo dopada con cobre tenía una estructura similar a la de otros materiales superconductores.\n",
        "2. **Experimentación:** Los científicos realizaron experimentos para medir la conductividad eléctrica del material a diferentes temperaturas y presiones. Los resultados de los experimentos mostraron que el LK-99 era superconductor a temperatura ambiente y presión atmosférica.\n",
        "3. **Formulación de hipótesis:** Los científicos formularon una hipótesis para explicar los resultados de sus experimentos. La hipótesis es que la estructura molecular del LK-99 permite que los electrones fluyan sin resistencia a temperatura ambiente.\n",
        "4. **Prueba de la hipótesis:** Los científicos realizaron más experimentos para probar su hipótesis. Estos experimentos incluyeron el uso de técnicas de espectroscopía para estudiar la estructura molecular del LK-99. Los resultados de estos experimentos apoyaron la hipótesis de los científicos.\n",
        "\n",
        "El descubrimiento del LK-99 es un ejemplo de cómo el método científico puede utilizarse para hacer descubrimientos importantes en el campo de la ciencia."
      ],
      "metadata": {
        "id": "RYGiAKTj7hmO"
      }
    }
  ]
}